{
  "nbformat": 4,
  "nbformat_minor": 0,
  "metadata": {
    "colab": {
      "name": "Tensorflow 2.0 Complete Course freecodecamp.ipynb",
      "provenance": [],
      "authorship_tag": "ABX9TyO3WJ/OOZbMUw0ciqk1fft7",
      "include_colab_link": true
    },
    "kernelspec": {
      "name": "python3",
      "display_name": "Python 3"
    },
    "language_info": {
      "name": "python"
    }
  },
  "cells": [
    {
      "cell_type": "markdown",
      "metadata": {
        "id": "view-in-github",
        "colab_type": "text"
      },
      "source": [
        "<a href=\"https://colab.research.google.com/github/DebjitHore/IntrotoTensorflowDeepLearningAI/blob/main/Tensorflow_2_0_Complete_Course_freecodecamp.ipynb\" target=\"_parent\"><img src=\"https://colab.research.google.com/assets/colab-badge.svg\" alt=\"Open In Colab\"/></a>"
      ]
    },
    {
      "cell_type": "markdown",
      "source": [
        "## Creating Tensors"
      ],
      "metadata": {
        "id": "wBPxvdIZ2SBv"
      }
    },
    {
      "cell_type": "code",
      "source": [
        "import numpy as np\n",
        "import pandas as pd\n",
        "import matplotlib.pyplot as plt\n",
        "import tensorflow as tf\n",
        "%tensorflow_version 2.x"
      ],
      "metadata": {
        "id": "MZ4NEheK2XSW"
      },
      "execution_count": 37,
      "outputs": []
    },
    {
      "cell_type": "code",
      "execution_count": 26,
      "metadata": {
        "id": "rIKQCtES2K0_"
      },
      "outputs": [],
      "source": [
        "strings= tf.Variable('This is a string', tf.string)\n",
        "number= tf.Variable('This is a string', tf.int16)\n",
        "floatNumber= tf.Variable('This is a string', tf.float64)\n",
        "# These are scalar variables"
      ]
    },
    {
      "cell_type": "markdown",
      "source": [
        "## Rank/Degree of Tensors"
      ],
      "metadata": {
        "id": "ndY1kGMh2udf"
      }
    },
    {
      "cell_type": "markdown",
      "source": [
        "This term simply means the number of dimensions involved in the tensor. The above variables are tensors of rank 0, or scalars."
      ],
      "metadata": {
        "id": "GI1jxW6N2ynm"
      }
    },
    {
      "cell_type": "code",
      "source": [
        "rank1_Tensor= tf.Variable(['Test', 'Okay'], tf.string)\n",
        "rank2_Tensor= tf.Variable([['test', 'ok'],['jit', 'nya']], tf.string)"
      ],
      "metadata": {
        "id": "MI-wiPOL2oQv"
      },
      "execution_count": 27,
      "outputs": []
    },
    {
      "cell_type": "markdown",
      "source": [
        "To determine the rank of a tensor use tf.rank"
      ],
      "metadata": {
        "id": "61oRaDy33Zpu"
      }
    },
    {
      "cell_type": "code",
      "source": [
        "tf.rank(rank2_Tensor)"
      ],
      "metadata": {
        "colab": {
          "base_uri": "https://localhost:8080/"
        },
        "id": "Fq7RA2Qo3XJO",
        "outputId": "7ddc1894-c6ff-4a25-82dc-3e939ac0f939"
      },
      "execution_count": 28,
      "outputs": [
        {
          "output_type": "execute_result",
          "data": {
            "text/plain": [
              "<tf.Tensor: shape=(), dtype=int32, numpy=2>"
            ]
          },
          "metadata": {},
          "execution_count": 28
        }
      ]
    },
    {
      "cell_type": "code",
      "source": [
        "tf.rank(rank1_Tensor)"
      ],
      "metadata": {
        "colab": {
          "base_uri": "https://localhost:8080/"
        },
        "id": "Rea4sYcV3e42",
        "outputId": "699d70d3-6b66-42dd-8dcf-92c84d567367"
      },
      "execution_count": 29,
      "outputs": [
        {
          "output_type": "execute_result",
          "data": {
            "text/plain": [
              "<tf.Tensor: shape=(), dtype=int32, numpy=1>"
            ]
          },
          "metadata": {},
          "execution_count": 29
        }
      ]
    },
    {
      "cell_type": "markdown",
      "source": [
        "The numpy value signifies the rank of the Tensor"
      ],
      "metadata": {
        "id": "Mrwi0Scf3kPV"
      }
    },
    {
      "cell_type": "markdown",
      "source": [
        "## Shape of Tensors\n",
        "\n",
        "The number of elements in a tensor is the product of the sizes of all its shapes. "
      ],
      "metadata": {
        "id": "EDNrRTnd3q7m"
      }
    },
    {
      "cell_type": "code",
      "source": [
        "rank2_Tensor.shape"
      ],
      "metadata": {
        "colab": {
          "base_uri": "https://localhost:8080/"
        },
        "id": "BwZ3EgIz3jEe",
        "outputId": "232c6fa4-faa1-4a1e-bb4a-8361266bfe06"
      },
      "execution_count": 30,
      "outputs": [
        {
          "output_type": "execute_result",
          "data": {
            "text/plain": [
              "TensorShape([2, 2])"
            ]
          },
          "metadata": {},
          "execution_count": 30
        }
      ]
    },
    {
      "cell_type": "code",
      "source": [
        "rank1_Tensor.shape"
      ],
      "metadata": {
        "colab": {
          "base_uri": "https://localhost:8080/"
        },
        "id": "PeFEIhOb351e",
        "outputId": "24f38230-2e24-4889-f4e5-e032bd3ef7bc"
      },
      "execution_count": 31,
      "outputs": [
        {
          "output_type": "execute_result",
          "data": {
            "text/plain": [
              "TensorShape([2])"
            ]
          },
          "metadata": {},
          "execution_count": 31
        }
      ]
    },
    {
      "cell_type": "markdown",
      "source": [
        "## Changing shape of a Tensor"
      ],
      "metadata": {
        "id": "tkn_5XaP4m_O"
      }
    },
    {
      "cell_type": "code",
      "source": [
        "tensor1= tf.ones([1,2,3])\n",
        "tensor2=tf.reshape(tensor1, [2,3,1])\n",
        "tensor3= tf.reshape(tensor1, [3, -1]) #-1 tells the tensor to calculate the size of the dimension in that place"
      ],
      "metadata": {
        "id": "N1bEp-xl3-Ie"
      },
      "execution_count": 32,
      "outputs": []
    },
    {
      "cell_type": "code",
      "source": [
        "print(tensor1)"
      ],
      "metadata": {
        "colab": {
          "base_uri": "https://localhost:8080/"
        },
        "id": "RBYYmC3y4wOF",
        "outputId": "688e4483-97c3-4dc7-c03d-77170b486df8"
      },
      "execution_count": 33,
      "outputs": [
        {
          "output_type": "stream",
          "name": "stdout",
          "text": [
            "tf.Tensor(\n",
            "[[[1. 1. 1.]\n",
            "  [1. 1. 1.]]], shape=(1, 2, 3), dtype=float32)\n"
          ]
        }
      ]
    },
    {
      "cell_type": "code",
      "source": [
        "print(tensor2)"
      ],
      "metadata": {
        "colab": {
          "base_uri": "https://localhost:8080/"
        },
        "id": "KydFoE6w4xyO",
        "outputId": "753a8c03-5129-4ced-8052-53dea70ec80a"
      },
      "execution_count": 34,
      "outputs": [
        {
          "output_type": "stream",
          "name": "stdout",
          "text": [
            "tf.Tensor(\n",
            "[[[1.]\n",
            "  [1.]\n",
            "  [1.]]\n",
            "\n",
            " [[1.]\n",
            "  [1.]\n",
            "  [1.]]], shape=(2, 3, 1), dtype=float32)\n"
          ]
        }
      ]
    },
    {
      "cell_type": "code",
      "source": [
        "print(tensor3)"
      ],
      "metadata": {
        "colab": {
          "base_uri": "https://localhost:8080/"
        },
        "id": "UJqAuoIs5LEV",
        "outputId": "059b73a5-8879-4865-906d-74317d0d84d0"
      },
      "execution_count": 35,
      "outputs": [
        {
          "output_type": "stream",
          "name": "stdout",
          "text": [
            "tf.Tensor(\n",
            "[[1. 1.]\n",
            " [1. 1.]\n",
            " [1. 1.]], shape=(3, 2), dtype=float32)\n"
          ]
        }
      ]
    },
    {
      "cell_type": "markdown",
      "source": [
        "## Types of Tensors\n",
        "\n",
        "* Constants\n",
        "* Variables\n",
        "* Placeholder\n",
        "* SparseTensor\n",
        "\n",
        "Except Variable, all of them are immutable."
      ],
      "metadata": {
        "id": "uPm7KTch5k_N"
      }
    },
    {
      "cell_type": "markdown",
      "source": [
        "## Evaluating Tensors\n",
        "Gets the value of a Tensor. Since Tensors represent a partially complete computation we will sometimes need to run what's called a session to evaluate a tensor."
      ],
      "metadata": {
        "id": "GM9hD9WQ6Vol"
      }
    },
    {
      "cell_type": "code",
      "source": [
        "with tf.Session() as sess:\n",
        "  tensor.eval()   #tensor will be the name of the tensor"
      ],
      "metadata": {
        "id": "VOJU01Ek83aV"
      },
      "execution_count": null,
      "outputs": []
    },
    {
      "cell_type": "markdown",
      "source": [
        "## Linear Regression using Tensorflow"
      ],
      "metadata": {
        "id": "yDIqwLqR8OQU"
      }
    },
    {
      "cell_type": "markdown",
      "source": [
        "### Setup and Imports"
      ],
      "metadata": {
        "id": "BQWFg70B-keT"
      }
    },
    {
      "cell_type": "code",
      "source": [
        "!pip install -q sklearn"
      ],
      "metadata": {
        "id": "dNYHvgFt62eF"
      },
      "execution_count": 38,
      "outputs": []
    },
    {
      "cell_type": "code",
      "source": [
        "%tensorflow_version 2.x"
      ],
      "metadata": {
        "id": "l8cJbYFI-pf6"
      },
      "execution_count": 39,
      "outputs": []
    },
    {
      "cell_type": "code",
      "source": [
        "from __future__ import absolute_import, divison, print_function, unicode_literals\n",
        "from IPython.display import clear_output\n",
        "from six.moves import urllib\n",
        "\n",
        "import tensorflow.compat.v2.feature_column as fc\n",
        "import tensorflow as tf"
      ],
      "metadata": {
        "colab": {
          "base_uri": "https://localhost:8080/",
          "height": 133
        },
        "id": "M79kZWJh-twK",
        "outputId": "22606a3b-cfbb-46a9-db8f-5fb7e0ec047d"
      },
      "execution_count": 41,
      "outputs": [
        {
          "output_type": "error",
          "ename": "SyntaxError",
          "evalue": "ignored",
          "traceback": [
            "\u001b[0;36m  File \u001b[0;32m\"<ipython-input-41-ef7968511fbe>\"\u001b[0;36m, line \u001b[0;32m1\u001b[0m\n\u001b[0;31m    from __future__ import absolute_import, divison, print_function, unicode_literals\u001b[0m\n\u001b[0m                                                                                     ^\u001b[0m\n\u001b[0;31mSyntaxError\u001b[0m\u001b[0;31m:\u001b[0m future feature divison is not defined\n"
          ]
        }
      ]
    },
    {
      "cell_type": "code",
      "source": [
        ""
      ],
      "metadata": {
        "id": "Heo7l8W3_QXq"
      },
      "execution_count": null,
      "outputs": []
    }
  ]
}